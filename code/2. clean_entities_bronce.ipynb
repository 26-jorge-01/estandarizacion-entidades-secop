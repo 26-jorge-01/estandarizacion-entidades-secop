{
 "cells": [
  {
   "cell_type": "code",
   "execution_count": 1,
   "metadata": {},
   "outputs": [],
   "source": [
    "import pandas as pd\n",
    "\n",
    "# Procesamiento de texto\n",
    "import re\n",
    "from nltk.corpus import stopwords\n",
    "from nltk.tokenize import word_tokenize"
   ]
  },
  {
   "cell_type": "code",
   "execution_count": 2,
   "metadata": {},
   "outputs": [
    {
     "name": "stdout",
     "output_type": "stream",
     "text": [
      "(12989, 6)\n",
      "Index(['NOMBRE', 'CODIGO', 'NIT', 'ORDEN', 'DEPARTAMENTO', 'MUNICIPIO'], dtype='object')\n"
     ]
    },
    {
     "data": {
      "text/html": [
       "<div>\n",
       "<style scoped>\n",
       "    .dataframe tbody tr th:only-of-type {\n",
       "        vertical-align: middle;\n",
       "    }\n",
       "\n",
       "    .dataframe tbody tr th {\n",
       "        vertical-align: top;\n",
       "    }\n",
       "\n",
       "    .dataframe thead th {\n",
       "        text-align: right;\n",
       "    }\n",
       "</style>\n",
       "<table border=\"1\" class=\"dataframe\">\n",
       "  <thead>\n",
       "    <tr style=\"text-align: right;\">\n",
       "      <th></th>\n",
       "      <th>NOMBRE</th>\n",
       "      <th>CODIGO</th>\n",
       "      <th>NIT</th>\n",
       "      <th>ORDEN</th>\n",
       "      <th>DEPARTAMENTO</th>\n",
       "      <th>MUNICIPIO</th>\n",
       "    </tr>\n",
       "  </thead>\n",
       "  <tbody>\n",
       "    <tr>\n",
       "      <th>0</th>\n",
       "      <td>BOYACÁ  EMPRESA DEPARTAMENTAL DE SERVICIOS PÚB...</td>\n",
       "      <td>215001021.0</td>\n",
       "      <td>900297725</td>\n",
       "      <td>TERRITORIAL</td>\n",
       "      <td>BOYACÁ</td>\n",
       "      <td>TUNJA</td>\n",
       "    </tr>\n",
       "    <tr>\n",
       "      <th>1</th>\n",
       "      <td>CUNDINAMARCA  ALCALDÍA MUNICIPIO DE LA VEGA</td>\n",
       "      <td>225402011.0</td>\n",
       "      <td>800128428-1</td>\n",
       "      <td>TERRITORIAL</td>\n",
       "      <td>CUNDINAMARCA</td>\n",
       "      <td>LA VEGA</td>\n",
       "    </tr>\n",
       "  </tbody>\n",
       "</table>\n",
       "</div>"
      ],
      "text/plain": [
       "                                              NOMBRE       CODIGO  \\\n",
       "0  BOYACÁ  EMPRESA DEPARTAMENTAL DE SERVICIOS PÚB...  215001021.0   \n",
       "1        CUNDINAMARCA  ALCALDÍA MUNICIPIO DE LA VEGA  225402011.0   \n",
       "\n",
       "           NIT        ORDEN  DEPARTAMENTO MUNICIPIO  \n",
       "0    900297725  TERRITORIAL        BOYACÁ     TUNJA  \n",
       "1  800128428-1  TERRITORIAL  CUNDINAMARCA   LA VEGA  "
      ]
     },
     "execution_count": 2,
     "metadata": {},
     "output_type": "execute_result"
    }
   ],
   "source": [
    "entidades = pd.read_csv('../data/bronze/entidades_bronce.csv', sep=';')\n",
    "print(entidades.shape)\n",
    "print(entidades.columns)\n",
    "entidades.head(2)"
   ]
  },
  {
   "cell_type": "code",
   "execution_count": 3,
   "metadata": {},
   "outputs": [],
   "source": [
    "stop_words = set(stopwords.words(\"spanish\"))\n",
    "\n",
    "def clean_text(text):\n",
    "    text = text.lower()\n",
    "    text = re.sub(r'(?::|;|=)(?:-)?(?:\\)|\\(|D|P)', \"\", text)\n",
    "    text = re.sub(r'[\\\\!\\\\\"\\\\#\\\\$\\\\%\\\\&\\\\\\'\\\\(\\\\)\\\\*\\\\+\\\\,\\\\-\\\\.\\\\/\\\\:\\\\;\\\\<\\\\=\\\\>\\\\?\\\\@\\\\[\\\\\\\\\\\\]\\\\^_\\\\`\\\\{\\\\|\\\\}\\\\~]', \"\", text)\n",
    "    text = re.sub(r'\\#\\.', '', text)\n",
    "    text = re.sub(r'\\n', ' ', text)\n",
    "    text = re.sub(r'  ', ' ', text)\n",
    "    text = re.sub(r'´', '',text)\n",
    "    text = re.sub(r',', '',text)\n",
    "    text = re.sub(r'\\-', '', text)\n",
    "    text = re.sub(r'á', 'a', text)\n",
    "    text = re.sub(r'é', 'e', text)\n",
    "    text = re.sub(r'í', 'i', text)\n",
    "    text = re.sub(r'ó', 'o', text)\n",
    "    text = re.sub(r'ú', 'u', text)\n",
    "    text = re.sub(r'ò', 'o', text)\n",
    "    text = re.sub(r'à', 'a', text)\n",
    "    text = re.sub(r'è', 'e', text)\n",
    "    text = re.sub(r'ì', 'i', text)\n",
    "    text = re.sub(r'ù', 'u', text)\n",
    "    text = re.sub(\"\\d+\", ' ', text)\n",
    "    text = re.sub(\"\\\\s+\", ' ', text)\n",
    "    text = text.upper()\n",
    "    tokens = word_tokenize(text)\n",
    "    tokens = [w for w in tokens if not w.lower() in stop_words]\n",
    "    tokens = \" \".join(tokens)\n",
    "    return tokens"
   ]
  },
  {
   "cell_type": "code",
   "execution_count": 4,
   "metadata": {},
   "outputs": [],
   "source": [
    "entidades['NOMBRE'] = entidades['NOMBRE'].astype(str)\n",
    "entidades['DEPARTAMENTO'] = entidades['DEPARTAMENTO'].astype(str)\n",
    "entidades['MUNICIPIO'] = entidades['MUNICIPIO'].astype(str)\n",
    "\n",
    "entidades['NOMBRE'] = entidades['NOMBRE'].apply(clean_text)\n",
    "entidades['DEPARTAMENTO'] = entidades['DEPARTAMENTO'].apply(clean_text)\n",
    "entidades['MUNICIPIO'] = entidades['MUNICIPIO'].apply(clean_text)"
   ]
  },
  {
   "cell_type": "code",
   "execution_count": 5,
   "metadata": {},
   "outputs": [
    {
     "data": {
      "text/plain": [
       "(12989, 6)"
      ]
     },
     "execution_count": 5,
     "metadata": {},
     "output_type": "execute_result"
    }
   ],
   "source": [
    "entidades = entidades.drop_duplicates()\n",
    "entidades.shape"
   ]
  },
  {
   "cell_type": "code",
   "execution_count": 6,
   "metadata": {},
   "outputs": [],
   "source": [
    "entidades['NIT'] = entidades['NIT'].astype(str)\n",
    "entidades['NIT'] = entidades['NIT'].str.split('-').str[0]"
   ]
  },
  {
   "cell_type": "code",
   "execution_count": 7,
   "metadata": {},
   "outputs": [
    {
     "data": {
      "text/plain": [
       "(12989, 6)"
      ]
     },
     "execution_count": 7,
     "metadata": {},
     "output_type": "execute_result"
    }
   ],
   "source": [
    "entidades = entidades.drop_duplicates()\n",
    "entidades.shape"
   ]
  },
  {
   "cell_type": "code",
   "execution_count": 8,
   "metadata": {},
   "outputs": [
    {
     "data": {
      "text/plain": [
       "DEPARTAMENTO\n",
       "BOGOTA D.C .               584\n",
       "DISTRITO CAPITAL BOGOTA    307\n",
       "Name: count, dtype: int64"
      ]
     },
     "execution_count": 8,
     "metadata": {},
     "output_type": "execute_result"
    }
   ],
   "source": [
    "entidades[entidades['DEPARTAMENTO'].str.contains('BOGO')]['DEPARTAMENTO'].value_counts()"
   ]
  },
  {
   "cell_type": "code",
   "execution_count": 9,
   "metadata": {},
   "outputs": [
    {
     "data": {
      "text/plain": [
       "(12989, 6)"
      ]
     },
     "execution_count": 9,
     "metadata": {},
     "output_type": "execute_result"
    }
   ],
   "source": [
    "entidades.loc[entidades['DEPARTAMENTO'].str.contains('BOGO'), 'DEPARTAMENTO'] = 'BOGOTA D.C .'\n",
    "entidades.loc[entidades['MUNICIPIO'].str.contains('BOGO'), 'MUNICIPIO'] = 'BOGOTA D.C .'\n",
    "entidades = entidades.drop_duplicates()\n",
    "entidades.shape"
   ]
  },
  {
   "cell_type": "code",
   "execution_count": 10,
   "metadata": {},
   "outputs": [
    {
     "data": {
      "text/html": [
       "<div>\n",
       "<style scoped>\n",
       "    .dataframe tbody tr th:only-of-type {\n",
       "        vertical-align: middle;\n",
       "    }\n",
       "\n",
       "    .dataframe tbody tr th {\n",
       "        vertical-align: top;\n",
       "    }\n",
       "\n",
       "    .dataframe thead th {\n",
       "        text-align: right;\n",
       "    }\n",
       "</style>\n",
       "<table border=\"1\" class=\"dataframe\">\n",
       "  <thead>\n",
       "    <tr style=\"text-align: right;\">\n",
       "      <th></th>\n",
       "      <th>NOMBRE</th>\n",
       "      <th>CODIGO</th>\n",
       "      <th>NIT</th>\n",
       "      <th>ORDEN</th>\n",
       "      <th>DEPARTAMENTO</th>\n",
       "      <th>MUNICIPIO</th>\n",
       "    </tr>\n",
       "  </thead>\n",
       "  <tbody>\n",
       "    <tr>\n",
       "      <th>0</th>\n",
       "      <td>BOYACA EMPRESA DEPARTAMENTAL SERVICIOS PUBLICO...</td>\n",
       "      <td>215001021.0</td>\n",
       "      <td>900297725</td>\n",
       "      <td>TERRITORIAL</td>\n",
       "      <td>BOYACA</td>\n",
       "      <td>TUNJA</td>\n",
       "    </tr>\n",
       "    <tr>\n",
       "      <th>1</th>\n",
       "      <td>CUNDINAMARCA ALCALDIA MUNICIPIO VEGA</td>\n",
       "      <td>225402011.0</td>\n",
       "      <td>800128428</td>\n",
       "      <td>TERRITORIAL</td>\n",
       "      <td>CUNDINAMARCA</td>\n",
       "      <td>VEGA</td>\n",
       "    </tr>\n",
       "    <tr>\n",
       "      <th>2</th>\n",
       "      <td>GUAJIRA ADMINISTRACION TEMPORAL SECTOR AGUA PO...</td>\n",
       "      <td>244001019.0</td>\n",
       "      <td>892115015</td>\n",
       "      <td>TERRITORIAL</td>\n",
       "      <td>GUAJIRA</td>\n",
       "      <td>RIOHACHA</td>\n",
       "    </tr>\n",
       "    <tr>\n",
       "      <th>3</th>\n",
       "      <td>CAR CORPORACION AUTONOMA REGIONAL CUNDINAMARCA</td>\n",
       "      <td>132003003.0</td>\n",
       "      <td>899999062</td>\n",
       "      <td>TERRITORIAL</td>\n",
       "      <td>BOGOTA D.C .</td>\n",
       "      <td>BOGOTA D.C .</td>\n",
       "    </tr>\n",
       "    <tr>\n",
       "      <th>4</th>\n",
       "      <td>ANTIOQUIA ALCALDIA MUNICIPIO COPACABANA</td>\n",
       "      <td>205212011.0</td>\n",
       "      <td>nan</td>\n",
       "      <td>TERRITORIAL</td>\n",
       "      <td>ANTIOQUIA</td>\n",
       "      <td>COPACABANA</td>\n",
       "    </tr>\n",
       "  </tbody>\n",
       "</table>\n",
       "</div>"
      ],
      "text/plain": [
       "                                              NOMBRE       CODIGO        NIT  \\\n",
       "0  BOYACA EMPRESA DEPARTAMENTAL SERVICIOS PUBLICO...  215001021.0  900297725   \n",
       "1               CUNDINAMARCA ALCALDIA MUNICIPIO VEGA  225402011.0  800128428   \n",
       "2  GUAJIRA ADMINISTRACION TEMPORAL SECTOR AGUA PO...  244001019.0  892115015   \n",
       "3     CAR CORPORACION AUTONOMA REGIONAL CUNDINAMARCA  132003003.0  899999062   \n",
       "4            ANTIOQUIA ALCALDIA MUNICIPIO COPACABANA  205212011.0        nan   \n",
       "\n",
       "         ORDEN  DEPARTAMENTO     MUNICIPIO  \n",
       "0  TERRITORIAL        BOYACA         TUNJA  \n",
       "1  TERRITORIAL  CUNDINAMARCA          VEGA  \n",
       "2  TERRITORIAL       GUAJIRA      RIOHACHA  \n",
       "3  TERRITORIAL  BOGOTA D.C .  BOGOTA D.C .  \n",
       "4  TERRITORIAL     ANTIOQUIA    COPACABANA  "
      ]
     },
     "execution_count": 10,
     "metadata": {},
     "output_type": "execute_result"
    }
   ],
   "source": [
    "entidades.head()"
   ]
  },
  {
   "cell_type": "code",
   "execution_count": 11,
   "metadata": {},
   "outputs": [],
   "source": [
    "entidades.to_csv('../data/silver/entidades_silver.csv', sep=';', index=False)"
   ]
  },
  {
   "cell_type": "code",
   "execution_count": null,
   "metadata": {},
   "outputs": [],
   "source": []
  }
 ],
 "metadata": {
  "kernelspec": {
   "display_name": "Python 3",
   "language": "python",
   "name": "python3"
  },
  "language_info": {
   "codemirror_mode": {
    "name": "ipython",
    "version": 3
   },
   "file_extension": ".py",
   "mimetype": "text/x-python",
   "name": "python",
   "nbconvert_exporter": "python",
   "pygments_lexer": "ipython3",
   "version": "3.10.12"
  }
 },
 "nbformat": 4,
 "nbformat_minor": 2
}
