{
 "cells": [
  {
   "cell_type": "code",
   "execution_count": 1,
   "metadata": {},
   "outputs": [],
   "source": [
    "import pandas as pd"
   ]
  },
  {
   "cell_type": "code",
   "execution_count": 2,
   "metadata": {},
   "outputs": [
    {
     "name": "stderr",
     "output_type": "stream",
     "text": [
      "/tmp/ipykernel_6109/2017175311.py:1: DtypeWarning: Columns (21,45,49,63,64,67,74,79,81,83,84,89) have mixed types. Specify dtype option on import or set low_memory=False.\n",
      "  secop1 = pd.read_csv('../data/bronze/SECOPI_contratos_2022_2023.csv', sep=';')\n"
     ]
    },
    {
     "name": "stdout",
     "output_type": "stream",
     "text": [
      "(3780257, 94)\n",
      "Index(['UID', 'NIVEL_ENTIDAD', 'NOMB_ENTIDAD', 'ORDEN_ENTIDAD', 'CODI_ENTIDAD',\n",
      "       'NIT_ENTIDAD', 'ID_MONEDA', 'CORREO_ENTIDAD', 'USUARIO',\n",
      "       'NOM_ENCARGADO_USUARIO', 'CORREO_ENCARGADO_USUARIO',\n",
      "       'TELEFONO_ENCARGADO_USUARIO', 'ID_SUPER_USUARIO', 'ID_TIPO_PROCESO',\n",
      "       'NOM_TIPO_PROCESO', 'NUMERO_CONSTANCIA', 'ID_ACUERDO_PAZ',\n",
      "       'NOM_ACUERDO_PAZ', 'NUMERO_PROCESO', 'ID_ESTADO_PROCESO',\n",
      "       'ESTADO_PROCESO', 'OTRAS_FORM_CONTRA_DIREC', 'ID_GRUPO', 'NOM_GRUPO',\n",
      "       'ID_SEGMENTO', 'NOM_SEGMENTO', 'ID_FAMILIA', 'NOM_FAMILIA', 'ID_CLASE',\n",
      "       'NOM_CLASE', 'NOM_SUPER_USUARIO', 'DETALLE_OBJETO_PROCESO',\n",
      "       'TIPO_CONTRATO', 'ORIGEN_RECURSOS', 'FECHA_CARGA', 'ANNO_CARGA',\n",
      "       'CUANTIA_CONTRATAR', 'ID_ADJUDICACION', 'CUANTIA_DEF_CONTRATAR',\n",
      "       'VR_TOTAL_ADICIONES', 'VR_CONTRATO_ADICIONES', 'NUMERO_CONTRATO',\n",
      "       'OBJETO_CONTRATO', 'RAZON_SOCIAL_CONTRATISTA', 'TIPO_ID_CONTRATISTA',\n",
      "       'NUMERO_ID_CONTRATISTA', 'DPTO_MUNI_CONTRATISTA', 'DIR_CONTRATISTA',\n",
      "       'TIPO_ID_REPRE_LEGAL', 'ID_REPRE_LEGAL', 'NOM_REPRE_LEGAL',\n",
      "       'FECHA_APERTURA', 'FECHA_FIRMA_CONTRATO', 'ANIO_FIRMA_CONTRATO',\n",
      "       'FECHA_EJE_CONTRATO', 'ANIO_FECHA_EJE_CONTRATO', 'PLAZO_EJECUCION',\n",
      "       'RANGO_EJECUCION', 'ADICION_DIAS', 'ADICION_MESES', 'NOM_ORIG_RECURSOS',\n",
      "       'ID_REGIM_CONTRATACION', 'NOM_REGIM_CONTRATACION',\n",
      "       'CALIFICACION_DEFINITIVA_PRO', 'PROPONENTES_SELECCIONADOS', 'ID_ORIGEN',\n",
      "       'COD_BPIN', 'ID_SUB_UNIDAD_EJECUTORA', 'DEPARTAMENTO_ENTIDAD',\n",
      "       'MUNICIPIO_ENTIDAD', 'DESCRIPCION_MONEDA', 'MUNICIPIO_OBTENCION',\n",
      "       'MUNICIPIO_ENTREGA', 'NOM_ORIGEN', 'NOM_SUB_UNIDAD_EJECUTORA',\n",
      "       'NUM_COMPROMISO', 'FECHA_FIN_EJE_CONTRATO', 'ACUERDO_PAZ',\n",
      "       'ID_PILAR_ACUERDO_PAZ', 'PILAR_ACUERDO_PAZ', 'ID_PUNTO_ACUERDO_PAZ',\n",
      "       'PUNTO_ACUERDO_PAZ', 'MARCADOR_ADICIONES', 'ID_RUBRO', 'NOMB_RUBRO',\n",
      "       'VALOR_RUBRO', 'SEXO_REPRE_LEGAL', 'FECHA_ULT_ACTUALIZACION',\n",
      "       'RUTA_SECOPI', 'RUTA_PTE', 'FechaCargueDate', 'Fecha Liquidacion',\n",
      "       'DECRETO248_CUMPLE', 'DECRETO248_INCLUYE_BIENES'],\n",
      "      dtype='object')\n"
     ]
    }
   ],
   "source": [
    "secop1 = pd.read_csv('../data/bronze/SECOPI_contratos_2022_2023.csv', sep=';')\n",
    "print(secop1.shape)\n",
    "print(secop1.columns)"
   ]
  },
  {
   "cell_type": "code",
   "execution_count": 3,
   "metadata": {},
   "outputs": [
    {
     "name": "stderr",
     "output_type": "stream",
     "text": [
      "/tmp/ipykernel_6109/2670875718.py:1: DtypeWarning: Columns (26,27,30,31) have mixed types. Specify dtype option on import or set low_memory=False.\n",
      "  secop2 = pd.read_csv('../data/bronze/SECOPII_contratos_2022_2023.csv', sep=';')\n"
     ]
    },
    {
     "name": "stdout",
     "output_type": "stream",
     "text": [
      "(2198286, 80)\n",
      "Index(['Nombre Entidad', 'Código Entidad', 'NIT Entidad', 'Orden', 'Sector',\n",
      "       'Rama', 'State', 'Province', 'City', 'Entidad Centralizada',\n",
      "       'Departamento Entidad', 'Ciudad Entidad', 'TipoDocProveedor',\n",
      "       'Documento Proveedor', 'Nombre Proveedor', 'Es Grupo', 'Es Pyme',\n",
      "       'Departamento Proveedor', 'Ciudad Proveedor', 'RequestReference',\n",
      "       'Description', 'JustificationTypeOfContractCode', 'TypeContract',\n",
      "       'ContractReference', 'ContractStartDate', 'ContractEndDate',\n",
      "       'DeliverStartDate', 'DeliverEndDate', 'Condiciones Entrega',\n",
      "       'ContractState', 'AdvancePayments', 'AdvancePayIndependentProperty',\n",
      "       'Liquidación', 'Obligación Ambiental', 'Obligación de Consumo',\n",
      "       'Reversión', 'ContractValue', 'AdvancedPaymentValue', 'InvoicedValue',\n",
      "       'PendingPaymentValue', 'PaidValue', 'AmortizedValue',\n",
      "       'PendingAmortizationValue', 'PendingExecutionValue',\n",
      "       'DimMainCategoryCode', 'ProcedureProfileLabel', 'AprovalDate',\n",
      "       'ContractNoticeUniqueIdentifier', 'Codigo Moneda', 'Código BPIN',\n",
      "       'Año BPIN', 'Estado BPIN', 'Origen de los Recursos', 'Destino Gasto',\n",
      "       'ReferenciaContrato', 'EsPostConflicto', 'Saldo CDP', 'Saldo Vigencia',\n",
      "       'FechaModificacion', 'Días Adicionados', 'Puntos del Acuerdo',\n",
      "       'Pilares del Acuerdo', 'URLProceso', 'AprovalDateDate',\n",
      "       'Nombre Representante Legal', 'Nacionalidad Representante Legal',\n",
      "       'Domicilio Representante Legal',\n",
      "       'Tipo de Identificación Representante Legal',\n",
      "       'Identificación Representante Legal', 'Género Representante Legal',\n",
      "       'Presupuesto General de la Nacion – PGN',\n",
      "       'Sistema General de Participaciones', 'Sistema General de Regalías',\n",
      "       'Recursos Propios (Alcaldías, Gobernaciones y Resguardos Indígenas)',\n",
      "       'Recursos de Credito', 'Recursos Propios', 'Codigo Proveedor',\n",
      "       'Fecha Inicio Liquidacion', 'Fecha Fin Liquidacion', 'Objeto Contrato'],\n",
      "      dtype='object')\n"
     ]
    }
   ],
   "source": [
    "secop2 = pd.read_csv('../data/bronze/SECOPII_contratos_2022_2023.csv', sep=';')\n",
    "print(secop2.shape)\n",
    "print(secop2.columns)"
   ]
  },
  {
   "cell_type": "code",
   "execution_count": 4,
   "metadata": {},
   "outputs": [],
   "source": [
    "entities_info_secop1 = secop1[['NOMB_ENTIDAD', 'CODI_ENTIDAD', 'NIT_ENTIDAD', 'NIVEL_ENTIDAD', 'DEPARTAMENTO_ENTIDAD', 'MUNICIPIO_ENTIDAD']]\n",
    "entities_info_secop2 = secop2[['Nombre Entidad', 'Código Entidad', 'NIT Entidad', 'Orden', 'Departamento Entidad', 'Ciudad Entidad']]"
   ]
  },
  {
   "cell_type": "code",
   "execution_count": 5,
   "metadata": {},
   "outputs": [
    {
     "data": {
      "text/html": [
       "<div>\n",
       "<style scoped>\n",
       "    .dataframe tbody tr th:only-of-type {\n",
       "        vertical-align: middle;\n",
       "    }\n",
       "\n",
       "    .dataframe tbody tr th {\n",
       "        vertical-align: top;\n",
       "    }\n",
       "\n",
       "    .dataframe thead th {\n",
       "        text-align: right;\n",
       "    }\n",
       "</style>\n",
       "<table border=\"1\" class=\"dataframe\">\n",
       "  <thead>\n",
       "    <tr style=\"text-align: right;\">\n",
       "      <th></th>\n",
       "      <th>NOMB_ENTIDAD</th>\n",
       "      <th>CODI_ENTIDAD</th>\n",
       "      <th>NIT_ENTIDAD</th>\n",
       "      <th>NIVEL_ENTIDAD</th>\n",
       "      <th>DEPARTAMENTO_ENTIDAD</th>\n",
       "      <th>MUNICIPIO_ENTIDAD</th>\n",
       "    </tr>\n",
       "  </thead>\n",
       "  <tbody>\n",
       "    <tr>\n",
       "      <th>0</th>\n",
       "      <td>BOYACÁ  EMPRESA DEPARTAMENTAL DE SERVICIOS PÚB...</td>\n",
       "      <td>215001021.0</td>\n",
       "      <td>900297725</td>\n",
       "      <td>TERRITORIAL</td>\n",
       "      <td>Boyacá</td>\n",
       "      <td>Tunja</td>\n",
       "    </tr>\n",
       "    <tr>\n",
       "      <th>1</th>\n",
       "      <td>BOYACÁ  EMPRESA DEPARTAMENTAL DE SERVICIOS PÚB...</td>\n",
       "      <td>215001021.0</td>\n",
       "      <td>900297725</td>\n",
       "      <td>TERRITORIAL</td>\n",
       "      <td>Boyacá</td>\n",
       "      <td>Tunja</td>\n",
       "    </tr>\n",
       "  </tbody>\n",
       "</table>\n",
       "</div>"
      ],
      "text/plain": [
       "                                        NOMB_ENTIDAD  CODI_ENTIDAD  \\\n",
       "0  BOYACÁ  EMPRESA DEPARTAMENTAL DE SERVICIOS PÚB...   215001021.0   \n",
       "1  BOYACÁ  EMPRESA DEPARTAMENTAL DE SERVICIOS PÚB...   215001021.0   \n",
       "\n",
       "  NIT_ENTIDAD NIVEL_ENTIDAD DEPARTAMENTO_ENTIDAD MUNICIPIO_ENTIDAD  \n",
       "0   900297725   TERRITORIAL               Boyacá             Tunja  \n",
       "1   900297725   TERRITORIAL               Boyacá             Tunja  "
      ]
     },
     "execution_count": 5,
     "metadata": {},
     "output_type": "execute_result"
    }
   ],
   "source": [
    "entities_info_secop1.head(2)"
   ]
  },
  {
   "cell_type": "code",
   "execution_count": 6,
   "metadata": {},
   "outputs": [
    {
     "data": {
      "text/html": [
       "<div>\n",
       "<style scoped>\n",
       "    .dataframe tbody tr th:only-of-type {\n",
       "        vertical-align: middle;\n",
       "    }\n",
       "\n",
       "    .dataframe tbody tr th {\n",
       "        vertical-align: top;\n",
       "    }\n",
       "\n",
       "    .dataframe thead th {\n",
       "        text-align: right;\n",
       "    }\n",
       "</style>\n",
       "<table border=\"1\" class=\"dataframe\">\n",
       "  <thead>\n",
       "    <tr style=\"text-align: right;\">\n",
       "      <th></th>\n",
       "      <th>Nombre Entidad</th>\n",
       "      <th>Código Entidad</th>\n",
       "      <th>NIT Entidad</th>\n",
       "      <th>Orden</th>\n",
       "      <th>Departamento Entidad</th>\n",
       "      <th>Ciudad Entidad</th>\n",
       "    </tr>\n",
       "  </thead>\n",
       "  <tbody>\n",
       "    <tr>\n",
       "      <th>0</th>\n",
       "      <td>ESTABLECIMIENTO PENITENCIARIO DE MEDIANA SEGUR...</td>\n",
       "      <td>701120032</td>\n",
       "      <td>844000697</td>\n",
       "      <td>Nacional</td>\n",
       "      <td>Distrito Capital de Bogotá</td>\n",
       "      <td>Bogotá</td>\n",
       "    </tr>\n",
       "    <tr>\n",
       "      <th>1</th>\n",
       "      <td>SUBRED INTEGRADA DE SERVICIOS DE SALUD SUR E.S.E.</td>\n",
       "      <td>702730482</td>\n",
       "      <td>9009585649</td>\n",
       "      <td>Territorial</td>\n",
       "      <td>No Definido</td>\n",
       "      <td>No Definido</td>\n",
       "    </tr>\n",
       "  </tbody>\n",
       "</table>\n",
       "</div>"
      ],
      "text/plain": [
       "                                      Nombre Entidad  Código Entidad  \\\n",
       "0  ESTABLECIMIENTO PENITENCIARIO DE MEDIANA SEGUR...       701120032   \n",
       "1  SUBRED INTEGRADA DE SERVICIOS DE SALUD SUR E.S.E.       702730482   \n",
       "\n",
       "   NIT Entidad        Orden        Departamento Entidad Ciudad Entidad  \n",
       "0    844000697     Nacional  Distrito Capital de Bogotá         Bogotá  \n",
       "1   9009585649  Territorial                 No Definido    No Definido  "
      ]
     },
     "execution_count": 6,
     "metadata": {},
     "output_type": "execute_result"
    }
   ],
   "source": [
    "entities_info_secop2.head(2)"
   ]
  },
  {
   "cell_type": "code",
   "execution_count": 7,
   "metadata": {},
   "outputs": [
    {
     "data": {
      "text/plain": [
       "(5978543, 6)"
      ]
     },
     "execution_count": 7,
     "metadata": {},
     "output_type": "execute_result"
    }
   ],
   "source": [
    "entities_info_secop1 = entities_info_secop1.rename(columns={\n",
    "    'NOMB_ENTIDAD': 'NOMBRE', \n",
    "    'CODI_ENTIDAD': 'CODIGO', \n",
    "    'NIT_ENTIDAD': 'NIT', \n",
    "    'NIVEL_ENTIDAD': 'ORDEN', \n",
    "    'DEPARTAMENTO_ENTIDAD': 'DEPARTAMENTO', \n",
    "    'MUNICIPIO_ENTIDAD': 'MUNICIPIO'\n",
    "})\n",
    "entities_info_secop2 = entities_info_secop2.rename(columns={\n",
    "    'Nombre Entidad': 'NOMBRE', \n",
    "    'Código Entidad': 'CODIGO', \n",
    "    'NIT Entidad': 'NIT', \n",
    "    'Orden': 'ORDEN', \n",
    "    'Departamento Entidad': 'DEPARTAMENTO', \n",
    "    'Ciudad Entidad': 'MUNICIPIO'\n",
    "})\n",
    "\n",
    "entities = pd.concat([entities_info_secop1, entities_info_secop2])\n",
    "entities.shape"
   ]
  },
  {
   "cell_type": "code",
   "execution_count": 8,
   "metadata": {},
   "outputs": [
    {
     "data": {
      "text/plain": [
       "(12989, 6)"
      ]
     },
     "execution_count": 8,
     "metadata": {},
     "output_type": "execute_result"
    }
   ],
   "source": [
    "entities['NOMBRE'] = entities['NOMBRE'].str.upper()\n",
    "entities['ORDEN'] = entities['ORDEN'].str.upper()\n",
    "entities['DEPARTAMENTO'] = entities['DEPARTAMENTO'].str.upper()\n",
    "entities['MUNICIPIO'] = entities['MUNICIPIO'].str.upper()\n",
    "\n",
    "entities = entities.drop_duplicates()\n",
    "entities.shape"
   ]
  },
  {
   "cell_type": "code",
   "execution_count": 12,
   "metadata": {},
   "outputs": [],
   "source": [
    "entities.to_csv('../data/bronze/entidades_bronce.csv', sep=';', index=False)"
   ]
  },
  {
   "cell_type": "code",
   "execution_count": null,
   "metadata": {},
   "outputs": [],
   "source": []
  }
 ],
 "metadata": {
  "kernelspec": {
   "display_name": "Python 3",
   "language": "python",
   "name": "python3"
  },
  "language_info": {
   "codemirror_mode": {
    "name": "ipython",
    "version": 3
   },
   "file_extension": ".py",
   "mimetype": "text/x-python",
   "name": "python",
   "nbconvert_exporter": "python",
   "pygments_lexer": "ipython3",
   "version": "3.10.12"
  }
 },
 "nbformat": 4,
 "nbformat_minor": 2
}
